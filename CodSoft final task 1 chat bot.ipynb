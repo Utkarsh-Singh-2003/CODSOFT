{
 "cells": [
  {
   "cell_type": "code",
   "execution_count": 14,
   "id": "51774ed1",
   "metadata": {},
   "outputs": [],
   "source": [
    "import tkinter as tk\n",
    "from tkinter import scrolledtext, simpledialog\n",
    "import re\n",
    "import random"
   ]
  },
  {
   "cell_type": "code",
   "execution_count": 15,
   "id": "c498926d",
   "metadata": {},
   "outputs": [],
   "source": [
    "class ChatbotApp:\n",
    "    def __init__(self, master):\n",
    "        self.master = master\n",
    "        master.title(\"Chatbot\")\n",
    "\n",
    "        self.chat_history = scrolledtext.ScrolledText(master, width=60, height=20, font=(\"Helvetica\", 12))\n",
    "        self.chat_history.grid(row=0, column=0, padx=10, pady=10, columnspan=2)\n",
    "\n",
    "        self.user_input = tk.Entry(master, width=50, font=(\"Helvetica\", 12))\n",
    "        self.user_input.grid(row=1, column=0, padx=10, pady=10)\n",
    "\n",
    "        self.send_button = tk.Button(master, text=\"Send\", command=self.send_message, font=(\"Helvetica\", 12), bg=\"#4CAF50\", fg=\"white\")\n",
    "        self.send_button.grid(row=1, column=1, padx=10, pady=10)\n",
    "\n",
    "        self.master.bind('<Return>', self.send_message_enter)\n",
    "\n",
    "    def send_message(self):\n",
    "        user_input = self.user_input.get()\n",
    "        self.display_message(f\"You: {user_input}\")\n",
    "        self.user_input.delete(0, tk.END)\n",
    "        if \"reservation\" in user_input:\n",
    "            place_type = self.prompt_place_type()\n",
    "            place_name = self.prompt_place_name()\n",
    "            reservation_time = self.prompt_reservation_time()\n",
    "            if place_type and place_name and reservation_time:\n",
    "                response = make_reservation(place_type, place_name, reservation_time)\n",
    "            else:\n",
    "                response = \"Reservation cancelled. Please provide all details.\"\n",
    "        else:\n",
    "            response = chatbot_response(user_input)\n",
    "        self.display_message(f\"Bot: {response}\")\n",
    "\n",
    "        if \"nearby\" in user_input and \"reservation\" not in user_input:\n",
    "            type_input = re.search(r\"\\b(restaurant|hospital|theater)\\b\", user_input)\n",
    "            if type_input:\n",
    "                nearby_type = type_input.group(0)\n",
    "                nearby_locations = find_nearby(nearby_type)\n",
    "                if nearby_locations:\n",
    "                    self.display_message(f\"Bot: Nearby {nearby_type}s: {', '.join(nearby_locations)}\")\n",
    "                else:\n",
    "                    self.display_message(f\"Bot: No nearby {nearby_type}s found.\")\n",
    "\n",
    "    def send_message_enter(self, event):\n",
    "        self.send_message()\n",
    "\n",
    "    def display_message(self, message):\n",
    "        self.chat_history.insert(tk.END, message + '\\n')\n",
    "        self.chat_history.see(tk.END)\n",
    "\n",
    "    def prompt_place_type(self):\n",
    "        return simpledialog.askstring(\"Reservation\", \"Enter the type of place (restaurant/hospital/theater):\")\n",
    "\n",
    "    def prompt_place_name(self):\n",
    "        return simpledialog.askstring(\"Reservation\", \"Enter the name of the place:\")\n",
    "\n",
    "    def prompt_reservation_time(self):\n",
    "        return simpledialog.askstring(\"Reservation\", \"Enter the reservation time (HH:MM format):\")\n"
   ]
  },
  {
   "cell_type": "code",
   "execution_count": 16,
   "id": "96751ac1",
   "metadata": {},
   "outputs": [],
   "source": [
    "def chatbot_response(user_input):\n",
    "    user_input = user_input.lower()\n",
    "    if re.search(r\"\\b(hi|hello|hey|hi there)\\b\", user_input):\n",
    "        return \"Hello! How can I assist you today?\"\n",
    "    elif re.search(r\"\\bhow are you\\b\", user_input):\n",
    "        return \"I'm just a bot, but I'm here to help you!\"\n",
    "    elif re.search(r\"\\byour name\\b\", user_input):\n",
    "        return \"I'm just a simple chatbot.\"\n",
    "    elif re.search(r\"\\bweather\\b\", user_input):\n",
    "        return f\"The weather is currently {get_weather()}.\"\n",
    "    elif re.search(r\"\\btime\\b\", user_input):\n",
    "        return f\"The current time is {get_time()}.\"\n",
    "    elif re.search(r\"\\breservation\\b\", user_input):\n",
    "        return \"Please specify the details of your reservation.\"\n",
    "    elif re.search(r\"\\brestaurant\\b\", user_input):\n",
    "        return find_nearby(\"restaurant\")\n",
    "    elif re.search(r\"\\bhospital\\b\", user_input):\n",
    "        return find_nearby(\"hospital\")\n",
    "    elif re.search(r\"\\btheater\\b\", user_input):\n",
    "        return find_nearby(\"theater\")\n",
    "    elif re.search(r\"\\bbye\\b\", user_input):\n",
    "        return \"Goodbye! Have a great day!\"\n",
    "    elif re.search(r\"\\bthank you\\b\", user_input):\n",
    "        return \"You're welcome!\"\n",
    "    elif re.search(r\"\\bhelp\\b\", user_input):\n",
    "        return \"How can I assist you?\"\n",
    "    elif re.search(r\"\\bgood morning\\b\", user_input):\n",
    "        return \"Good morning! How can I help you today?\"\n",
    "    elif re.search(r\"\\bgood afternoon\\b\", user_input):\n",
    "        return \"Good afternoon! How can I assist you?\"\n",
    "    elif re.search(r\"\\bgood evening\\b\", user_input):\n",
    "        return \"Good evening! What can I do for you?\"\n",
    "    elif re.search(r\"\\bhow old are you\\b\", user_input):\n",
    "        return \"I am a chatbot, so I don't have an age!\"\n",
    "    elif re.search(r\"\\bthank you\\b\", user_input):\n",
    "        return \"You're welcome!\"\n",
    "    elif re.search(r\"\\bwhat can you do\\b\", user_input):\n",
    "        return \"I can provide information about the weather, time, nearby places, and help with reservations. Feel free to ask!\"\n",
    "    else:\n",
    "        return \"Sorry, I didn't understand you\""
   ]
  },
  {
   "cell_type": "code",
   "execution_count": 17,
   "id": "ad7bc346",
   "metadata": {},
   "outputs": [],
   "source": [
    "restaurants = [\"Hotel Oberoi\", \"New Agarwaal Bhawan\", \"Heaven on earth restaurant\"]\n",
    "hospitals = [\"Altius Hospital\", \"Manipal Hospital\", \"Columbasia Hospital\"]\n",
    "theaters = [\"PVR Theater\", \"Vaishnavi Theater\", \"Royal Theater\"]"
   ]
  },
  {
   "cell_type": "code",
   "execution_count": 18,
   "id": "06ab8076",
   "metadata": {},
   "outputs": [],
   "source": [
    "def get_weather():\n",
    "    weather_conditions = [\"sunny\", \"cloudy\", \"rainy\", \"windy\"]\n",
    "    return random.choice(weather_conditions)"
   ]
  },
  {
   "cell_type": "code",
   "execution_count": 19,
   "id": "3986dd26",
   "metadata": {},
   "outputs": [],
   "source": [
    "def get_time():\n",
    "    import datetime\n",
    "    current_time = datetime.datetime.now().strftime(\"%H:%M\")\n",
    "    return current_time"
   ]
  },
  {
   "cell_type": "code",
   "execution_count": 20,
   "id": "43508144",
   "metadata": {},
   "outputs": [],
   "source": [
    "def make_reservation(place_type, place_name, reservation_time):\n",
    "    reservation_details = f\"Your reservation for {place_name} at {reservation_time} has been made successfully!\"\n",
    "    return reservation_details"
   ]
  },
  {
   "cell_type": "code",
   "execution_count": 21,
   "id": "a92cae31",
   "metadata": {},
   "outputs": [],
   "source": [
    "def find_nearby(type):\n",
    "    if type == \"restaurant\":\n",
    "        return restaurants\n",
    "    elif type == \"hospital\":\n",
    "        return hospitals\n",
    "    elif type == \"theater\":\n",
    "        return theaters\n",
    "    else:\n",
    "        return []"
   ]
  },
  {
   "cell_type": "code",
   "execution_count": 22,
   "id": "8502183b",
   "metadata": {},
   "outputs": [],
   "source": [
    "def main():\n",
    "    root = tk.Tk()\n",
    "    app = ChatbotApp(root)\n",
    "    root.mainloop()\n",
    "\n",
    "if __name__ == \"__main__\":\n",
    "    main()"
   ]
  },
  {
   "cell_type": "code",
   "execution_count": null,
   "id": "75a39468",
   "metadata": {},
   "outputs": [],
   "source": []
  }
 ],
 "metadata": {
  "kernelspec": {
   "display_name": "Python 3 (ipykernel)",
   "language": "python",
   "name": "python3"
  },
  "language_info": {
   "codemirror_mode": {
    "name": "ipython",
    "version": 3
   },
   "file_extension": ".py",
   "mimetype": "text/x-python",
   "name": "python",
   "nbconvert_exporter": "python",
   "pygments_lexer": "ipython3",
   "version": "3.9.12"
  }
 },
 "nbformat": 4,
 "nbformat_minor": 5
}
