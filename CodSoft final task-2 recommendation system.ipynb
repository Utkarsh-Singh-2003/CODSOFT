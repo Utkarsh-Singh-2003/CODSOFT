{
 "cells": [
  {
   "cell_type": "code",
   "execution_count": 1,
   "id": "1af762d9",
   "metadata": {},
   "outputs": [],
   "source": [
    "import pandas as pd\n",
    "from sklearn.feature_extraction.text import TfidfVectorizer\n",
    "from sklearn.metrics.pairwise import linear_kernel\n",
    "import re"
   ]
  },
  {
   "cell_type": "code",
   "execution_count": 2,
   "id": "9eba34b8",
   "metadata": {},
   "outputs": [],
   "source": [
    "movies_data = pd.read_csv('movies.csv')"
   ]
  },
  {
   "cell_type": "code",
   "execution_count": 3,
   "id": "72548407",
   "metadata": {},
   "outputs": [],
   "source": [
    "books_data = pd.read_csv('books.csv')"
   ]
  },
  {
   "cell_type": "code",
   "execution_count": 4,
   "id": "639dea43",
   "metadata": {},
   "outputs": [],
   "source": [
    "movies_data['genres'] = movies_data['genres'].fillna('')\n",
    "books_data['categories'] = books_data['categories'].fillna('')"
   ]
  },
  {
   "cell_type": "code",
   "execution_count": 5,
   "id": "5f29d21c",
   "metadata": {},
   "outputs": [],
   "source": [
    "tfidf_vectorizer_movies = TfidfVectorizer(stop_words='english')\n",
    "tfidf_matrix_movies = tfidf_vectorizer_movies.fit_transform(movies_data['genres'])"
   ]
  },
  {
   "cell_type": "code",
   "execution_count": 6,
   "id": "d3c11937",
   "metadata": {},
   "outputs": [],
   "source": [
    "tfidf_vectorizer_books = TfidfVectorizer(stop_words='english')\n",
    "tfidf_matrix_books = tfidf_vectorizer_books.fit_transform(books_data['categories'])"
   ]
  },
  {
   "cell_type": "code",
   "execution_count": 7,
   "id": "afe0ba11",
   "metadata": {},
   "outputs": [],
   "source": [
    "cosine_sim_movies = linear_kernel(tfidf_matrix_movies, tfidf_matrix_movies)\n",
    "cosine_sim_books = linear_kernel(tfidf_matrix_books, tfidf_matrix_books)"
   ]
  },
  {
   "cell_type": "code",
   "execution_count": 8,
   "id": "f023e7b5",
   "metadata": {},
   "outputs": [],
   "source": [
    "def recommend_movies(movie_title, cosine_sim=cosine_sim_movies):\n",
    "    pattern = re.compile(movie_title, re.IGNORECASE)\n",
    "    similar_titles = movies_data[movies_data['title'].apply(lambda x: bool(pattern.search(x)))]\n",
    "    similar_indices = similar_titles.index.tolist()\n",
    "    recommendations = []\n",
    "    for idx in similar_indices:\n",
    "        sim_scores = list(enumerate(cosine_sim[idx]))\n",
    "        sim_scores = sorted(sim_scores, key=lambda x: x[1], reverse=True)\n",
    "        sim_scores = sim_scores[1:11]\n",
    "        movie_indices = [i[0] for i in sim_scores]\n",
    "        recommendations.extend(movies_data['title'].iloc[movie_indices])\n",
    "    return recommendations"
   ]
  },
  {
   "cell_type": "code",
   "execution_count": 9,
   "id": "e81c4caa",
   "metadata": {},
   "outputs": [],
   "source": [
    "def recommend_books(book_title, cosine_sim=cosine_sim_books):\n",
    "    pattern = re.compile(book_title, re.IGNORECASE)\n",
    "    similar_titles = books_data[books_data['title'].apply(lambda x: bool(pattern.search(x)))]\n",
    "    similar_indices = similar_titles.index.tolist()\n",
    "    recommendations = []\n",
    "    for idx in similar_indices:\n",
    "        sim_scores = list(enumerate(cosine_sim[idx]))\n",
    "        sim_scores = sorted(sim_scores, key=lambda x: x[1], reverse=True)\n",
    "        sim_scores = sim_scores[1:11]\n",
    "        book_indices = [i[0] for i in sim_scores]\n",
    "        recommendations.extend(books_data['title'].iloc[book_indices])\n",
    "    return recommendations"
   ]
  },
  {
   "cell_type": "code",
   "execution_count": null,
   "id": "d673377b",
   "metadata": {},
   "outputs": [],
   "source": [
    "search_type = input(\"What do you want to search for? Enter 'movies' or 'books': \").lower()\n",
    "j=1\n",
    "if search_type == 'movies':\n",
    "    movie_title_pattern = input(\"Enter a part of the movie title: \")\n",
    "    recommended_movies = recommend_movies(movie_title_pattern)\n",
    "    print(\"\\nRecommended movies similar to '{}' are:\".format(movie_title_pattern))\n",
    "    for i in recommended_movies:\n",
    "        print(\"{} {}\".format(j,i))\n",
    "        j=j+1\n",
    "\n",
    "elif search_type == 'books':\n",
    "    book_title_pattern = input(\"Enter a part of the book title: \")\n",
    "    recommended_books = recommend_books(book_title_pattern)\n",
    "    print(\"\\nRecommended books similar to '{}' are:\".format(book_title_pattern))\n",
    "    for i in recommended_books:\n",
    "        print(\"{} {}\".format(j,i))\n",
    "        j=j+1\n",
    "\n",
    "else:\n",
    "    print(\"Invalid input. Please enter 'movies' or 'books'.\")"
   ]
  },
  {
   "cell_type": "code",
   "execution_count": null,
   "id": "dab7a443",
   "metadata": {},
   "outputs": [],
   "source": []
  }
 ],
 "metadata": {
  "kernelspec": {
   "display_name": "Python 3 (ipykernel)",
   "language": "python",
   "name": "python3"
  },
  "language_info": {
   "codemirror_mode": {
    "name": "ipython",
    "version": 3
   },
   "file_extension": ".py",
   "mimetype": "text/x-python",
   "name": "python",
   "nbconvert_exporter": "python",
   "pygments_lexer": "ipython3",
   "version": "3.9.12"
  }
 },
 "nbformat": 4,
 "nbformat_minor": 5
}
